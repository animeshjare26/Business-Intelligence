{
  "nbformat": 4,
  "nbformat_minor": 0,
  "metadata": {
    "colab": {
      "provenance": [],
      "authorship_tag": "ABX9TyOYwBYwoER5zrwLKEs6IC6u",
      "include_colab_link": true
    },
    "kernelspec": {
      "name": "python3",
      "display_name": "Python 3"
    },
    "language_info": {
      "name": "python"
    }
  },
  "cells": [
    {
      "cell_type": "markdown",
      "metadata": {
        "id": "view-in-github",
        "colab_type": "text"
      },
      "source": [
        "<a href=\"https://colab.research.google.com/github/animeshjare26/Business-Intelligence/blob/master/miningAlgorithm.ipynb\" target=\"_parent\"><img src=\"https://colab.research.google.com/assets/colab-badge.svg\" alt=\"Open In Colab\"/></a>"
      ]
    },
    {
      "cell_type": "code",
      "execution_count": 1,
      "metadata": {
        "id": "68fmPv9q_uaC"
      },
      "outputs": [],
      "source": [
        "import pandas as pd\n",
        "from mlxtend.frequent_patterns import apriori, association_rules"
      ]
    },
    {
      "cell_type": "code",
      "source": [
        "data = {\n",
        "    'TID' : [1,1,1,2,2,3,3,4,4,4,5,5,5],\n",
        "    'Items' : ['A','B','C','A','B','A','C','A','B','C','A','B','C']\n",
        "}"
      ],
      "metadata": {
        "colab": {
          "base_uri": "https://localhost:8080/"
        },
        "id": "w3ebgGCMAQkL",
        "outputId": "ff70408a-199a-425b-c0e3-182a647baf9e"
      },
      "execution_count": 2,
      "outputs": [
        {
          "output_type": "stream",
          "name": "stderr",
          "text": [
            "/usr/local/lib/python3.10/dist-packages/ipykernel/ipkernel.py:283: DeprecationWarning: `should_run_async` will not call `transform_cell` automatically in the future. Please pass the result to `transformed_cell` argument and any exception that happen during thetransform in `preprocessing_exc_tuple` in IPython 7.17 and above.\n",
            "  and should_run_async(code)\n"
          ]
        }
      ]
    },
    {
      "cell_type": "code",
      "source": [
        "#Create a pandas DataFrame\n",
        "df = pd.DataFrame(data)"
      ],
      "metadata": {
        "colab": {
          "base_uri": "https://localhost:8080/"
        },
        "id": "v_yE2G94Azdu",
        "outputId": "45088eeb-041c-40f6-c3dd-d1866b8aa5d0"
      },
      "execution_count": 3,
      "outputs": [
        {
          "output_type": "stream",
          "name": "stderr",
          "text": [
            "/usr/local/lib/python3.10/dist-packages/ipykernel/ipkernel.py:283: DeprecationWarning: `should_run_async` will not call `transform_cell` automatically in the future. Please pass the result to `transformed_cell` argument and any exception that happen during thetransform in `preprocessing_exc_tuple` in IPython 7.17 and above.\n",
            "  and should_run_async(code)\n"
          ]
        }
      ]
    },
    {
      "cell_type": "code",
      "source": [
        "#Convert the dataFrame into a one-hot enncoded matrix\n",
        "\n",
        "one_hot = pd.get_dummies(df['Items'])"
      ],
      "metadata": {
        "colab": {
          "base_uri": "https://localhost:8080/"
        },
        "id": "urUMHXH6A88r",
        "outputId": "e13568e5-4ffd-443b-816c-f210ebdeeb8f"
      },
      "execution_count": 4,
      "outputs": [
        {
          "output_type": "stream",
          "name": "stderr",
          "text": [
            "/usr/local/lib/python3.10/dist-packages/ipykernel/ipkernel.py:283: DeprecationWarning: `should_run_async` will not call `transform_cell` automatically in the future. Please pass the result to `transformed_cell` argument and any exception that happen during thetransform in `preprocessing_exc_tuple` in IPython 7.17 and above.\n",
            "  and should_run_async(code)\n"
          ]
        }
      ]
    },
    {
      "cell_type": "code",
      "source": [
        "#Add TID column back to the one-hot encoded DataFrame\n",
        "\n",
        "one_hot['TID'] = df['TID']"
      ],
      "metadata": {
        "colab": {
          "base_uri": "https://localhost:8080/"
        },
        "id": "9F02gUbBBJcS",
        "outputId": "baf3127a-22bc-49c3-e1e2-130ed352093c"
      },
      "execution_count": 5,
      "outputs": [
        {
          "output_type": "stream",
          "name": "stderr",
          "text": [
            "/usr/local/lib/python3.10/dist-packages/ipykernel/ipkernel.py:283: DeprecationWarning: `should_run_async` will not call `transform_cell` automatically in the future. Please pass the result to `transformed_cell` argument and any exception that happen during thetransform in `preprocessing_exc_tuple` in IPython 7.17 and above.\n",
            "  and should_run_async(code)\n"
          ]
        }
      ]
    },
    {
      "cell_type": "code",
      "source": [
        "#grouped the data by TID and sum the oen_hot encoded values\n",
        "\n",
        "grouped = one_hot.groupby('TID').sum()"
      ],
      "metadata": {
        "colab": {
          "base_uri": "https://localhost:8080/"
        },
        "id": "umrzIb_rBbXk",
        "outputId": "8f12baa1-03b9-4c25-e7f6-9127153fc932"
      },
      "execution_count": 6,
      "outputs": [
        {
          "output_type": "stream",
          "name": "stderr",
          "text": [
            "/usr/local/lib/python3.10/dist-packages/ipykernel/ipkernel.py:283: DeprecationWarning: `should_run_async` will not call `transform_cell` automatically in the future. Please pass the result to `transformed_cell` argument and any exception that happen during thetransform in `preprocessing_exc_tuple` in IPython 7.17 and above.\n",
            "  and should_run_async(code)\n"
          ]
        }
      ]
    },
    {
      "cell_type": "code",
      "source": [
        "#convert the values to  1 or  0 (presence or absence of item in the transaction)\n",
        "\n",
        "grouped = grouped.applymap(lambda x :1 if x >=  1 else 0)"
      ],
      "metadata": {
        "colab": {
          "base_uri": "https://localhost:8080/"
        },
        "id": "AREymEblBuo6",
        "outputId": "0e98fd87-a03a-4f43-ef0e-f6a7854423a4"
      },
      "execution_count": 7,
      "outputs": [
        {
          "output_type": "stream",
          "name": "stderr",
          "text": [
            "/usr/local/lib/python3.10/dist-packages/ipykernel/ipkernel.py:283: DeprecationWarning: `should_run_async` will not call `transform_cell` automatically in the future. Please pass the result to `transformed_cell` argument and any exception that happen during thetransform in `preprocessing_exc_tuple` in IPython 7.17 and above.\n",
            "  and should_run_async(code)\n"
          ]
        }
      ]
    },
    {
      "cell_type": "code",
      "source": [
        "# Apply the Apriori Algoorithm to find the frequent itemSets\n",
        "\n",
        "frequent_itemsets = apriori(grouped, min_support=0.2, use_colnames =True)"
      ],
      "metadata": {
        "colab": {
          "base_uri": "https://localhost:8080/"
        },
        "id": "qGgL46LWCDWm",
        "outputId": "11b436d1-b71e-4b5c-c50b-2d1029917e1c"
      },
      "execution_count": 8,
      "outputs": [
        {
          "output_type": "stream",
          "name": "stderr",
          "text": [
            "/usr/local/lib/python3.10/dist-packages/ipykernel/ipkernel.py:283: DeprecationWarning: `should_run_async` will not call `transform_cell` automatically in the future. Please pass the result to `transformed_cell` argument and any exception that happen during thetransform in `preprocessing_exc_tuple` in IPython 7.17 and above.\n",
            "  and should_run_async(code)\n",
            "/usr/local/lib/python3.10/dist-packages/mlxtend/frequent_patterns/fpcommon.py:110: DeprecationWarning: DataFrames with non-bool types result in worse computationalperformance and their support might be discontinued in the future.Please use a DataFrame with bool type\n",
            "  warnings.warn(\n"
          ]
        }
      ]
    },
    {
      "cell_type": "code",
      "source": [
        "#General association rules from the frequent itemsets\n",
        "\n",
        "rules = association_rules(frequent_itemsets , metric ='confidence', min_threshold=0.6)\n"
      ],
      "metadata": {
        "colab": {
          "base_uri": "https://localhost:8080/"
        },
        "id": "JtxvAkQwCb1l",
        "outputId": "bb5dc53e-99d2-430c-9dae-ab2ef26e739a"
      },
      "execution_count": 9,
      "outputs": [
        {
          "output_type": "stream",
          "name": "stderr",
          "text": [
            "/usr/local/lib/python3.10/dist-packages/ipykernel/ipkernel.py:283: DeprecationWarning: `should_run_async` will not call `transform_cell` automatically in the future. Please pass the result to `transformed_cell` argument and any exception that happen during thetransform in `preprocessing_exc_tuple` in IPython 7.17 and above.\n",
            "  and should_run_async(code)\n"
          ]
        }
      ]
    },
    {
      "cell_type": "code",
      "source": [
        "#Display frequent itemSets and association rules\n",
        "\n",
        "print(\"Frequent Itemsets:\")\n",
        "print(frequent_itemsets)"
      ],
      "metadata": {
        "colab": {
          "base_uri": "https://localhost:8080/"
        },
        "id": "DxCuUQ_qV_ny",
        "outputId": "10864897-f630-4bcf-8fcb-802ca370bf79"
      },
      "execution_count": 10,
      "outputs": [
        {
          "output_type": "stream",
          "name": "stdout",
          "text": [
            "Frequent Itemsets:\n",
            "   support   itemsets\n",
            "0      1.0        (A)\n",
            "1      0.8        (B)\n",
            "2      0.8        (C)\n",
            "3      0.8     (B, A)\n",
            "4      0.8     (C, A)\n",
            "5      0.6     (B, C)\n",
            "6      0.6  (B, C, A)\n"
          ]
        },
        {
          "output_type": "stream",
          "name": "stderr",
          "text": [
            "/usr/local/lib/python3.10/dist-packages/ipykernel/ipkernel.py:283: DeprecationWarning: `should_run_async` will not call `transform_cell` automatically in the future. Please pass the result to `transformed_cell` argument and any exception that happen during thetransform in `preprocessing_exc_tuple` in IPython 7.17 and above.\n",
            "  and should_run_async(code)\n"
          ]
        }
      ]
    },
    {
      "cell_type": "code",
      "source": [
        "print(\"\\nAssociation Rules :\")\n",
        "print(rules)"
      ],
      "metadata": {
        "colab": {
          "base_uri": "https://localhost:8080/"
        },
        "id": "N_p_TH8BWPpV",
        "outputId": "c5d87538-ab8f-49e4-bced-26490025e587"
      },
      "execution_count": 11,
      "outputs": [
        {
          "output_type": "stream",
          "name": "stdout",
          "text": [
            "\n",
            "Association Rules :\n",
            "   antecedents consequents  antecedent support  consequent support  support  \\\n",
            "0          (B)         (A)                 0.8                 1.0      0.8   \n",
            "1          (A)         (B)                 1.0                 0.8      0.8   \n",
            "2          (C)         (A)                 0.8                 1.0      0.8   \n",
            "3          (A)         (C)                 1.0                 0.8      0.8   \n",
            "4          (B)         (C)                 0.8                 0.8      0.6   \n",
            "5          (C)         (B)                 0.8                 0.8      0.6   \n",
            "6       (B, C)         (A)                 0.6                 1.0      0.6   \n",
            "7       (B, A)         (C)                 0.8                 0.8      0.6   \n",
            "8       (C, A)         (B)                 0.8                 0.8      0.6   \n",
            "9          (B)      (C, A)                 0.8                 0.8      0.6   \n",
            "10         (C)      (B, A)                 0.8                 0.8      0.6   \n",
            "11         (A)      (B, C)                 1.0                 0.6      0.6   \n",
            "\n",
            "    confidence    lift  leverage  conviction  zhangs_metric  \n",
            "0         1.00  1.0000      0.00         inf           0.00  \n",
            "1         0.80  1.0000      0.00         1.0           0.00  \n",
            "2         1.00  1.0000      0.00         inf           0.00  \n",
            "3         0.80  1.0000      0.00         1.0           0.00  \n",
            "4         0.75  0.9375     -0.04         0.8          -0.25  \n",
            "5         0.75  0.9375     -0.04         0.8          -0.25  \n",
            "6         1.00  1.0000      0.00         inf           0.00  \n",
            "7         0.75  0.9375     -0.04         0.8          -0.25  \n",
            "8         0.75  0.9375     -0.04         0.8          -0.25  \n",
            "9         0.75  0.9375     -0.04         0.8          -0.25  \n",
            "10        0.75  0.9375     -0.04         0.8          -0.25  \n",
            "11        0.60  1.0000      0.00         1.0           0.00  \n"
          ]
        },
        {
          "output_type": "stream",
          "name": "stderr",
          "text": [
            "/usr/local/lib/python3.10/dist-packages/ipykernel/ipkernel.py:283: DeprecationWarning: `should_run_async` will not call `transform_cell` automatically in the future. Please pass the result to `transformed_cell` argument and any exception that happen during thetransform in `preprocessing_exc_tuple` in IPython 7.17 and above.\n",
            "  and should_run_async(code)\n"
          ]
        }
      ]
    },
    {
      "cell_type": "code",
      "source": [],
      "metadata": {
        "id": "suIV4s3sWYxa"
      },
      "execution_count": null,
      "outputs": []
    }
  ]
}